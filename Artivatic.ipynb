{
 "cells": [
  {
   "cell_type": "markdown",
   "metadata": {},
   "source": [
    "# Artivatic Data Labs Pvt. Ltd"
   ]
  },
  {
   "cell_type": "markdown",
   "metadata": {},
   "source": [
    "# Problem Statement"
   ]
  },
  {
   "cell_type": "code",
   "execution_count": 1,
   "metadata": {},
   "outputs": [],
   "source": [
    "# !pip install catboost\n",
    "# !pip install xgboost\n",
    "# !pip install prettytable\n",
    "# !pip install lightgbm"
   ]
  },
  {
   "cell_type": "raw",
   "metadata": {},
   "source": [
    "The Bank Indessa has not done well in the last 3 quarters. Their NPAs (Non Performing Assets)\n",
    "have reached all time high. It is starting to lose the confidence of its investors. As a result, it’s stock\n",
    "has fallen by 20% in the previous quarter alone.\n",
    "After careful analysis, it was found that the majority of NPA was contributed by loan defaulters. With\n",
    "the messy data collected over all the years, this bank has decided to use machine learning to figure\n",
    "out a way to find these defaulters and devise a plan to reduce them.\n",
    "This bank uses a pool of investors to sanction their loans. For example: If any customer has applied\n",
    "for a loan of $20000, along with the bank, the investors perform due diligence on the requested loan\n",
    "application. Keep this in mind while understanding data.\n",
    "In this challenge, you will help this bank by predicting the probability that a member will default.\n",
    "\n",
    "Submissions will be evaluated based on AUC-ROC score."
   ]
  },
  {
   "cell_type": "code",
   "execution_count": 2,
   "metadata": {},
   "outputs": [],
   "source": [
    "import pandas as pd\n",
    "df = pd.read_csv('ML_Artivatic_dataset/ML_Artivatic_dataset/train_indessa.csv') "
   ]
  },
  {
   "cell_type": "markdown",
   "metadata": {},
   "source": [
    "# Data Information"
   ]
  },
  {
   "cell_type": "code",
   "execution_count": 3,
   "metadata": {},
   "outputs": [
    {
     "name": "stdout",
     "output_type": "stream",
     "text": [
      "<class 'pandas.core.frame.DataFrame'>\n",
      "RangeIndex: 532428 entries, 0 to 532427\n",
      "Data columns (total 45 columns):\n",
      " #   Column                       Non-Null Count   Dtype  \n",
      "---  ------                       --------------   -----  \n",
      " 0   member_id                    532428 non-null  int64  \n",
      " 1   loan_amnt                    532428 non-null  int64  \n",
      " 2   funded_amnt                  532428 non-null  int64  \n",
      " 3   funded_amnt_inv              532428 non-null  float64\n",
      " 4   term                         532428 non-null  object \n",
      " 5   batch_enrolled               447279 non-null  object \n",
      " 6   int_rate                     532428 non-null  float64\n",
      " 7   grade                        532428 non-null  object \n",
      " 8   sub_grade                    532428 non-null  object \n",
      " 9   emp_title                    501595 non-null  object \n",
      " 10  emp_length                   505537 non-null  object \n",
      " 11  home_ownership               532428 non-null  object \n",
      " 12  annual_inc                   532425 non-null  float64\n",
      " 13  verification_status          532428 non-null  object \n",
      " 14  pymnt_plan                   532428 non-null  object \n",
      " 15  desc                         75599 non-null   object \n",
      " 16  purpose                      532428 non-null  object \n",
      " 17  title                        532338 non-null  object \n",
      " 18  zip_code                     532428 non-null  object \n",
      " 19  addr_state                   532428 non-null  object \n",
      " 20  dti                          532428 non-null  float64\n",
      " 21  delinq_2yrs                  532412 non-null  float64\n",
      " 22  inq_last_6mths               532412 non-null  float64\n",
      " 23  mths_since_last_delinq       259874 non-null  float64\n",
      " 24  mths_since_last_record       82123 non-null   float64\n",
      " 25  open_acc                     532412 non-null  float64\n",
      " 26  pub_rec                      532412 non-null  float64\n",
      " 27  revol_bal                    532428 non-null  float64\n",
      " 28  revol_util                   532141 non-null  float64\n",
      " 29  total_acc                    532412 non-null  float64\n",
      " 30  initial_list_status          532428 non-null  object \n",
      " 31  total_rec_int                532428 non-null  float64\n",
      " 32  total_rec_late_fee           532428 non-null  float64\n",
      " 33  recoveries                   532428 non-null  float64\n",
      " 34  collection_recovery_fee      532428 non-null  float64\n",
      " 35  collections_12_mths_ex_med   532333 non-null  float64\n",
      " 36  mths_since_last_major_derog  132980 non-null  float64\n",
      " 37  application_type             532428 non-null  object \n",
      " 38  verification_status_joint    305 non-null     object \n",
      " 39  last_week_pay                532428 non-null  object \n",
      " 40  acc_now_delinq               532412 non-null  float64\n",
      " 41  tot_coll_amt                 490424 non-null  float64\n",
      " 42  tot_cur_bal                  490424 non-null  float64\n",
      " 43  total_rev_hi_lim             490424 non-null  float64\n",
      " 44  loan_status                  532428 non-null  int64  \n",
      "dtypes: float64(23), int64(4), object(18)\n",
      "memory usage: 182.8+ MB\n"
     ]
    }
   ],
   "source": [
    "df.info()"
   ]
  },
  {
   "cell_type": "code",
   "execution_count": 4,
   "metadata": {},
   "outputs": [
    {
     "data": {
      "text/html": [
       "<div>\n",
       "<style scoped>\n",
       "    .dataframe tbody tr th:only-of-type {\n",
       "        vertical-align: middle;\n",
       "    }\n",
       "\n",
       "    .dataframe tbody tr th {\n",
       "        vertical-align: top;\n",
       "    }\n",
       "\n",
       "    .dataframe thead th {\n",
       "        text-align: right;\n",
       "    }\n",
       "</style>\n",
       "<table border=\"1\" class=\"dataframe\">\n",
       "  <thead>\n",
       "    <tr style=\"text-align: right;\">\n",
       "      <th></th>\n",
       "      <th>member_id</th>\n",
       "      <th>loan_amnt</th>\n",
       "      <th>funded_amnt</th>\n",
       "      <th>funded_amnt_inv</th>\n",
       "      <th>term</th>\n",
       "      <th>batch_enrolled</th>\n",
       "      <th>int_rate</th>\n",
       "      <th>grade</th>\n",
       "      <th>sub_grade</th>\n",
       "      <th>emp_title</th>\n",
       "      <th>...</th>\n",
       "      <th>collections_12_mths_ex_med</th>\n",
       "      <th>mths_since_last_major_derog</th>\n",
       "      <th>application_type</th>\n",
       "      <th>verification_status_joint</th>\n",
       "      <th>last_week_pay</th>\n",
       "      <th>acc_now_delinq</th>\n",
       "      <th>tot_coll_amt</th>\n",
       "      <th>tot_cur_bal</th>\n",
       "      <th>total_rev_hi_lim</th>\n",
       "      <th>loan_status</th>\n",
       "    </tr>\n",
       "  </thead>\n",
       "  <tbody>\n",
       "    <tr>\n",
       "      <th>0</th>\n",
       "      <td>58189336</td>\n",
       "      <td>14350</td>\n",
       "      <td>14350</td>\n",
       "      <td>14350.0</td>\n",
       "      <td>36 months</td>\n",
       "      <td></td>\n",
       "      <td>19.19</td>\n",
       "      <td>E</td>\n",
       "      <td>E3</td>\n",
       "      <td>clerk</td>\n",
       "      <td>...</td>\n",
       "      <td>0.0</td>\n",
       "      <td>74.0</td>\n",
       "      <td>INDIVIDUAL</td>\n",
       "      <td>NaN</td>\n",
       "      <td>26th week</td>\n",
       "      <td>0.0</td>\n",
       "      <td>0.0</td>\n",
       "      <td>28699.0</td>\n",
       "      <td>30800.0</td>\n",
       "      <td>0</td>\n",
       "    </tr>\n",
       "    <tr>\n",
       "      <th>1</th>\n",
       "      <td>70011223</td>\n",
       "      <td>4800</td>\n",
       "      <td>4800</td>\n",
       "      <td>4800.0</td>\n",
       "      <td>36 months</td>\n",
       "      <td>BAT1586599</td>\n",
       "      <td>10.99</td>\n",
       "      <td>B</td>\n",
       "      <td>B4</td>\n",
       "      <td>Human Resources Specialist</td>\n",
       "      <td>...</td>\n",
       "      <td>0.0</td>\n",
       "      <td>NaN</td>\n",
       "      <td>INDIVIDUAL</td>\n",
       "      <td>NaN</td>\n",
       "      <td>9th week</td>\n",
       "      <td>0.0</td>\n",
       "      <td>0.0</td>\n",
       "      <td>9974.0</td>\n",
       "      <td>32900.0</td>\n",
       "      <td>0</td>\n",
       "    </tr>\n",
       "    <tr>\n",
       "      <th>2</th>\n",
       "      <td>70255675</td>\n",
       "      <td>10000</td>\n",
       "      <td>10000</td>\n",
       "      <td>10000.0</td>\n",
       "      <td>36 months</td>\n",
       "      <td>BAT1586599</td>\n",
       "      <td>7.26</td>\n",
       "      <td>A</td>\n",
       "      <td>A4</td>\n",
       "      <td>Driver</td>\n",
       "      <td>...</td>\n",
       "      <td>0.0</td>\n",
       "      <td>NaN</td>\n",
       "      <td>INDIVIDUAL</td>\n",
       "      <td>NaN</td>\n",
       "      <td>9th week</td>\n",
       "      <td>0.0</td>\n",
       "      <td>65.0</td>\n",
       "      <td>38295.0</td>\n",
       "      <td>34900.0</td>\n",
       "      <td>0</td>\n",
       "    </tr>\n",
       "    <tr>\n",
       "      <th>3</th>\n",
       "      <td>1893936</td>\n",
       "      <td>15000</td>\n",
       "      <td>15000</td>\n",
       "      <td>15000.0</td>\n",
       "      <td>36 months</td>\n",
       "      <td>BAT4808022</td>\n",
       "      <td>19.72</td>\n",
       "      <td>D</td>\n",
       "      <td>D5</td>\n",
       "      <td>Us office of Personnel Management</td>\n",
       "      <td>...</td>\n",
       "      <td>0.0</td>\n",
       "      <td>NaN</td>\n",
       "      <td>INDIVIDUAL</td>\n",
       "      <td>NaN</td>\n",
       "      <td>135th week</td>\n",
       "      <td>0.0</td>\n",
       "      <td>0.0</td>\n",
       "      <td>55564.0</td>\n",
       "      <td>24700.0</td>\n",
       "      <td>0</td>\n",
       "    </tr>\n",
       "    <tr>\n",
       "      <th>4</th>\n",
       "      <td>7652106</td>\n",
       "      <td>16000</td>\n",
       "      <td>16000</td>\n",
       "      <td>16000.0</td>\n",
       "      <td>36 months</td>\n",
       "      <td>BAT2833642</td>\n",
       "      <td>10.64</td>\n",
       "      <td>B</td>\n",
       "      <td>B2</td>\n",
       "      <td>LAUSD-HOLLYWOOD HIGH SCHOOL</td>\n",
       "      <td>...</td>\n",
       "      <td>0.0</td>\n",
       "      <td>NaN</td>\n",
       "      <td>INDIVIDUAL</td>\n",
       "      <td>NaN</td>\n",
       "      <td>96th week</td>\n",
       "      <td>0.0</td>\n",
       "      <td>0.0</td>\n",
       "      <td>47159.0</td>\n",
       "      <td>47033.0</td>\n",
       "      <td>0</td>\n",
       "    </tr>\n",
       "  </tbody>\n",
       "</table>\n",
       "<p>5 rows × 45 columns</p>\n",
       "</div>"
      ],
      "text/plain": [
       "   member_id  loan_amnt  funded_amnt  funded_amnt_inv       term  \\\n",
       "0   58189336      14350        14350          14350.0  36 months   \n",
       "1   70011223       4800         4800           4800.0  36 months   \n",
       "2   70255675      10000        10000          10000.0  36 months   \n",
       "3    1893936      15000        15000          15000.0  36 months   \n",
       "4    7652106      16000        16000          16000.0  36 months   \n",
       "\n",
       "  batch_enrolled  int_rate grade sub_grade                          emp_title  \\\n",
       "0                    19.19     E        E3                              clerk   \n",
       "1     BAT1586599     10.99     B        B4         Human Resources Specialist   \n",
       "2     BAT1586599      7.26     A        A4                             Driver   \n",
       "3     BAT4808022     19.72     D        D5  Us office of Personnel Management   \n",
       "4     BAT2833642     10.64     B        B2        LAUSD-HOLLYWOOD HIGH SCHOOL   \n",
       "\n",
       "   ... collections_12_mths_ex_med mths_since_last_major_derog  \\\n",
       "0  ...                        0.0                        74.0   \n",
       "1  ...                        0.0                         NaN   \n",
       "2  ...                        0.0                         NaN   \n",
       "3  ...                        0.0                         NaN   \n",
       "4  ...                        0.0                         NaN   \n",
       "\n",
       "   application_type verification_status_joint last_week_pay acc_now_delinq  \\\n",
       "0        INDIVIDUAL                       NaN     26th week            0.0   \n",
       "1        INDIVIDUAL                       NaN      9th week            0.0   \n",
       "2        INDIVIDUAL                       NaN      9th week            0.0   \n",
       "3        INDIVIDUAL                       NaN    135th week            0.0   \n",
       "4        INDIVIDUAL                       NaN     96th week            0.0   \n",
       "\n",
       "  tot_coll_amt tot_cur_bal total_rev_hi_lim loan_status  \n",
       "0          0.0     28699.0          30800.0           0  \n",
       "1          0.0      9974.0          32900.0           0  \n",
       "2         65.0     38295.0          34900.0           0  \n",
       "3          0.0     55564.0          24700.0           0  \n",
       "4          0.0     47159.0          47033.0           0  \n",
       "\n",
       "[5 rows x 45 columns]"
      ]
     },
     "execution_count": 4,
     "metadata": {},
     "output_type": "execute_result"
    }
   ],
   "source": [
    "df.head()"
   ]
  },
  {
   "cell_type": "code",
   "execution_count": 5,
   "metadata": {},
   "outputs": [
    {
     "name": "stdout",
     "output_type": "stream",
     "text": [
      "distribution of our target variable:\n",
      " 0    406601\n",
      "1    125827\n",
      "Name: loan_status, dtype: int64\n"
     ]
    }
   ],
   "source": [
    "#distribution of our target variable\n",
    "print(\"distribution of our target variable:\\n\", df['loan_status'].value_counts())"
   ]
  },
  {
   "cell_type": "markdown",
   "metadata": {},
   "source": [
    "# Data Preprocessing"
   ]
  },
  {
   "cell_type": "code",
   "execution_count": 6,
   "metadata": {},
   "outputs": [
    {
     "data": {
      "text/plain": [
       "3.0    372793\n",
       "5.0    159635\n",
       "Name: term, dtype: int64"
      ]
     },
     "execution_count": 6,
     "metadata": {},
     "output_type": "execute_result"
    }
   ],
   "source": [
    "#Feature : TERM\n",
    "\n",
    "#Action   : Changing month to integer (lets make it as year count)\n",
    "\n",
    "df['term'].replace(to_replace=' months', value='', regex=True, inplace=True) \n",
    "df['term'] = pd.to_numeric(df['term'])/12\n",
    "df['term'].value_counts()"
   ]
  },
  {
   "cell_type": "code",
   "execution_count": 7,
   "metadata": {},
   "outputs": [],
   "source": [
    "#Feature : EMP_LENGTH\n",
    "\n",
    "#Action   : Change to numeric\n",
    "\n",
    "df['emp_length'].replace('n/a', '0', inplace=True)\n",
    "df['emp_length'].replace(to_replace='\\+ years', value='', regex=True, inplace=True)\n",
    "df['emp_length'].replace(to_replace=' years', value='', regex=True, inplace=True)\n",
    "df['emp_length'].replace(to_replace='< 1 year', value='0', regex=True, inplace=True)\n",
    "df['emp_length'].replace(to_replace=' year', value='', regex=True, inplace=True)\n",
    "\n",
    "# Convert it to numeric\n",
    "df['emp_length'] = pd.to_numeric(df['emp_length'], errors='coerce') "
   ]
  },
  {
   "cell_type": "code",
   "execution_count": 8,
   "metadata": {},
   "outputs": [],
   "source": [
    "#Feature : SUB_GRADE\n",
    "\n",
    "#Action   : labeling and changing to numeric\n",
    "\n",
    "df['sub_grade'].replace(to_replace='A', value='0', regex=True, inplace=True)\n",
    "df['sub_grade'].replace(to_replace='B', value='1', regex=True, inplace=True)\n",
    "df['sub_grade'].replace(to_replace='C', value='2', regex=True, inplace=True)\n",
    "df['sub_grade'].replace(to_replace='D', value='3', regex=True, inplace=True)\n",
    "df['sub_grade'].replace(to_replace='E', value='4', regex=True, inplace=True)\n",
    "df['sub_grade'].replace(to_replace='F', value='5', regex=True, inplace=True)\n",
    "df['sub_grade'].replace(to_replace='G', value='6', regex=True, inplace=True) \n",
    "\n",
    "# Convert it to numeric\n",
    "df['sub_grade'] = pd.to_numeric(df['sub_grade'], errors='coerce') "
   ]
  },
  {
   "cell_type": "code",
   "execution_count": 9,
   "metadata": {},
   "outputs": [],
   "source": [
    "#Feature : LAST_WEEK_PAY\n",
    "\n",
    "#Action   : Cleansing and changing to numeric\n",
    "\n",
    "df['last_week_pay'].replace(to_replace='th week', value='', regex=True, inplace=True)\n",
    "\n",
    "df['last_week_pay'].replace(to_replace='NA', value='', regex=True, inplace=True)\n",
    "\n",
    "# Convert it to numeric\n",
    "df['last_week_pay'] = pd.to_numeric(df['last_week_pay'], errors='coerce')"
   ]
  },
  {
   "cell_type": "markdown",
   "metadata": {},
   "source": [
    "### Handling Missing Values"
   ]
  },
  {
   "cell_type": "code",
   "execution_count": 10,
   "metadata": {},
   "outputs": [
    {
     "data": {
      "text/html": [
       "<div>\n",
       "<style scoped>\n",
       "    .dataframe tbody tr th:only-of-type {\n",
       "        vertical-align: middle;\n",
       "    }\n",
       "\n",
       "    .dataframe tbody tr th {\n",
       "        vertical-align: top;\n",
       "    }\n",
       "\n",
       "    .dataframe thead th {\n",
       "        text-align: right;\n",
       "    }\n",
       "</style>\n",
       "<table border=\"1\" class=\"dataframe\">\n",
       "  <thead>\n",
       "    <tr style=\"text-align: right;\">\n",
       "      <th></th>\n",
       "      <th>0</th>\n",
       "    </tr>\n",
       "  </thead>\n",
       "  <tbody>\n",
       "    <tr>\n",
       "      <th>batch_enrolled</th>\n",
       "      <td>85149</td>\n",
       "    </tr>\n",
       "    <tr>\n",
       "      <th>emp_title</th>\n",
       "      <td>30833</td>\n",
       "    </tr>\n",
       "    <tr>\n",
       "      <th>emp_length</th>\n",
       "      <td>26891</td>\n",
       "    </tr>\n",
       "    <tr>\n",
       "      <th>annual_inc</th>\n",
       "      <td>3</td>\n",
       "    </tr>\n",
       "    <tr>\n",
       "      <th>desc</th>\n",
       "      <td>456829</td>\n",
       "    </tr>\n",
       "    <tr>\n",
       "      <th>title</th>\n",
       "      <td>90</td>\n",
       "    </tr>\n",
       "    <tr>\n",
       "      <th>delinq_2yrs</th>\n",
       "      <td>16</td>\n",
       "    </tr>\n",
       "    <tr>\n",
       "      <th>inq_last_6mths</th>\n",
       "      <td>16</td>\n",
       "    </tr>\n",
       "    <tr>\n",
       "      <th>mths_since_last_delinq</th>\n",
       "      <td>272554</td>\n",
       "    </tr>\n",
       "    <tr>\n",
       "      <th>mths_since_last_record</th>\n",
       "      <td>450305</td>\n",
       "    </tr>\n",
       "    <tr>\n",
       "      <th>open_acc</th>\n",
       "      <td>16</td>\n",
       "    </tr>\n",
       "    <tr>\n",
       "      <th>pub_rec</th>\n",
       "      <td>16</td>\n",
       "    </tr>\n",
       "    <tr>\n",
       "      <th>revol_util</th>\n",
       "      <td>287</td>\n",
       "    </tr>\n",
       "    <tr>\n",
       "      <th>total_acc</th>\n",
       "      <td>16</td>\n",
       "    </tr>\n",
       "    <tr>\n",
       "      <th>collections_12_mths_ex_med</th>\n",
       "      <td>95</td>\n",
       "    </tr>\n",
       "    <tr>\n",
       "      <th>mths_since_last_major_derog</th>\n",
       "      <td>399448</td>\n",
       "    </tr>\n",
       "    <tr>\n",
       "      <th>verification_status_joint</th>\n",
       "      <td>532123</td>\n",
       "    </tr>\n",
       "    <tr>\n",
       "      <th>last_week_pay</th>\n",
       "      <td>10614</td>\n",
       "    </tr>\n",
       "    <tr>\n",
       "      <th>acc_now_delinq</th>\n",
       "      <td>16</td>\n",
       "    </tr>\n",
       "    <tr>\n",
       "      <th>tot_coll_amt</th>\n",
       "      <td>42004</td>\n",
       "    </tr>\n",
       "    <tr>\n",
       "      <th>tot_cur_bal</th>\n",
       "      <td>42004</td>\n",
       "    </tr>\n",
       "    <tr>\n",
       "      <th>total_rev_hi_lim</th>\n",
       "      <td>42004</td>\n",
       "    </tr>\n",
       "  </tbody>\n",
       "</table>\n",
       "</div>"
      ],
      "text/plain": [
       "                                  0\n",
       "batch_enrolled                85149\n",
       "emp_title                     30833\n",
       "emp_length                    26891\n",
       "annual_inc                        3\n",
       "desc                         456829\n",
       "title                            90\n",
       "delinq_2yrs                      16\n",
       "inq_last_6mths                   16\n",
       "mths_since_last_delinq       272554\n",
       "mths_since_last_record       450305\n",
       "open_acc                         16\n",
       "pub_rec                          16\n",
       "revol_util                      287\n",
       "total_acc                        16\n",
       "collections_12_mths_ex_med       95\n",
       "mths_since_last_major_derog  399448\n",
       "verification_status_joint    532123\n",
       "last_week_pay                 10614\n",
       "acc_now_delinq                   16\n",
       "tot_coll_amt                  42004\n",
       "tot_cur_bal                   42004\n",
       "total_rev_hi_lim              42004"
      ]
     },
     "execution_count": 10,
     "metadata": {},
     "output_type": "execute_result"
    }
   ],
   "source": [
    "#MISSING VALUES\n",
    "pd.DataFrame(df.isnull().sum()[df.isnull().sum()>0])"
   ]
  },
  {
   "cell_type": "code",
   "execution_count": 11,
   "metadata": {},
   "outputs": [],
   "source": [
    "#NUMERICAL FEATURES:\n",
    "\n",
    "columns = ['term', 'loan_amnt', 'funded_amnt', 'last_week_pay', 'int_rate', 'sub_grade',\n",
    "           'annual_inc', 'dti', 'mths_since_last_delinq', 'mths_since_last_record', 'open_acc',\n",
    "           'revol_bal', 'revol_util', 'total_acc', 'total_rec_int', 'mths_since_last_major_derog', \n",
    "           'tot_coll_amt', 'tot_cur_bal', 'total_rev_hi_lim', 'emp_length']\n",
    "for col in columns:\n",
    "    df[col].fillna(df[col].median(), inplace=True)  # Filling NaN values with median\n",
    "    \n",
    "num_cols = ['acc_now_delinq', 'total_rec_late_fee', 'recoveries', 'collection_recovery_fee', 'collections_12_mths_ex_med']\n",
    "\n",
    "for col in num_cols:\n",
    "    df[col].fillna(0, inplace=True)        ## Filling NaN values with 0 f"
   ]
  },
  {
   "cell_type": "code",
   "execution_count": 12,
   "metadata": {},
   "outputs": [],
   "source": [
    "#CATEGORICAL FEATURES:\n",
    "\n",
    "# Converts categorical variable into dummy/indicator variables.\n",
    "cate_attr = ['home_ownership', 'purpose']\n",
    "for cat in cate_attr:\n",
    "    df_col = [cat]\n",
    "    df[cat] = df[cat].astype(\"category\")\n",
    "    df[cat] = pd.get_dummies(df, columns=df_col) "
   ]
  },
  {
   "cell_type": "markdown",
   "metadata": {},
   "source": [
    "# Feature Engineering"
   ]
  },
  {
   "cell_type": "code",
   "execution_count": 13,
   "metadata": {},
   "outputs": [],
   "source": [
    "train_target = pd.DataFrame(df['loan_status']) \n",
    "final_df = df.copy()\n",
    "final_df = final_df.drop(['loan_status'], axis=1)  "
   ]
  },
  {
   "cell_type": "code",
   "execution_count": 14,
   "metadata": {},
   "outputs": [],
   "source": [
    "# CREATING income_to_loan,total_int_paid,income_to_loan_inv using annual_inc,funded_amnt\n",
    "\n",
    "import math\n",
    "import numpy as np\n",
    "\n",
    "# How big the loan a person has taken with respect to his earnings, annual income to fund by bank ratio\n",
    "final_df['income_to_loan'] = np.round_(final_df['annual_inc']/final_df['funded_amnt'], decimals = 2)\n",
    "\n",
    "# How big the loan a person has taken with respect to his earnings, annual income to fund by investors ratio\n",
    "final_df['income_to_loan_inv'] = np.round_(final_df['annual_inc']/final_df['funded_amnt_inv'], decimals = 2)\n",
    "\n",
    "# Interest paid so far = interest received till date + Late fee received till date\n",
    "final_df['total_int_paid'] = final_df['total_rec_int'] + final_df['total_rec_late_fee']\n",
    "\n",
    "# Calculating EMIs (monthly)\n",
    "#EMI = [P x R x (1+R)^N] / [(1+R)^N-1]\n",
    "principal = final_df['loan_amnt']\n",
    "rate = final_df['int_rate'] /(100*12)\n",
    "time = final_df['term']\n",
    "\n",
    "final_df['emi_per_month'] = np.round_((principal * rate * (1+rate)**time)/((1+rate)**(time)-1), decimals = 2)\n",
    "\n",
    "# Calculating EMIs paid (in terms of percent) np.round_(in_array, decimals = 2)\n",
    "final_df['emi_paid_perc'] = np.round_(((final_df['last_week_pay'])/(final_df['term']/12*52+1))*100, decimals = 2)"
   ]
  },
  {
   "cell_type": "markdown",
   "metadata": {},
   "source": [
    "### Cleansing Text field to create proper feature set"
   ]
  },
  {
   "cell_type": "code",
   "execution_count": 15,
   "metadata": {},
   "outputs": [
    {
     "name": "stderr",
     "output_type": "stream",
     "text": [
      "[nltk_data] Downloading package stopwords to\n",
      "[nltk_data]     C:\\Users\\DMarudhu\\AppData\\Roaming\\nltk_data...\n",
      "[nltk_data]   Package stopwords is already up-to-date!\n"
     ]
    }
   ],
   "source": [
    "import nltk\n",
    "nltk.download('stopwords')\n",
    "\n",
    "from nltk.corpus import stopwords\n",
    "stop_words = stopwords.words('english') "
   ]
  },
  {
   "cell_type": "code",
   "execution_count": 16,
   "metadata": {},
   "outputs": [],
   "source": [
    "text_cols = ['grade', 'emp_title', 'verification_status_joint', 'verification_status',\n",
    "        'pymnt_plan', 'desc', 'purpose', 'title', 'zip_code', 'addr_state', 'initial_list_status', 'application_type']\n",
    "\n",
    "for col in text_cols:\n",
    "    final_df[col].fillna('missing', inplace=True)"
   ]
  },
  {
   "cell_type": "markdown",
   "metadata": {
    "id": "FCxhomGNF-W0"
   },
   "source": [
    "Finally, if we have any left out columns, we'll fill them with 0."
   ]
  },
  {
   "cell_type": "code",
   "execution_count": 17,
   "metadata": {
    "id": "rjQ4ibjHz--W"
   },
   "outputs": [],
   "source": [
    "final_df.fillna(0)  \n",
    "final_df.reset_index(inplace=True,drop=True)  # Resets the indices."
   ]
  },
  {
   "cell_type": "code",
   "execution_count": 18,
   "metadata": {},
   "outputs": [
    {
     "name": "stdout",
     "output_type": "stream",
     "text": [
      "<class 'pandas.core.frame.DataFrame'>\n",
      "RangeIndex: 532428 entries, 0 to 532427\n",
      "Data columns (total 49 columns):\n",
      " #   Column                       Non-Null Count   Dtype  \n",
      "---  ------                       --------------   -----  \n",
      " 0   member_id                    532428 non-null  int64  \n",
      " 1   loan_amnt                    532428 non-null  int64  \n",
      " 2   funded_amnt                  532428 non-null  int64  \n",
      " 3   funded_amnt_inv              532428 non-null  float64\n",
      " 4   term                         532428 non-null  float64\n",
      " 5   batch_enrolled               447279 non-null  object \n",
      " 6   int_rate                     532428 non-null  float64\n",
      " 7   grade                        532428 non-null  object \n",
      " 8   sub_grade                    532428 non-null  int64  \n",
      " 9   emp_title                    532428 non-null  object \n",
      " 10  emp_length                   532428 non-null  float64\n",
      " 11  home_ownership               532428 non-null  object \n",
      " 12  annual_inc                   532428 non-null  float64\n",
      " 13  verification_status          532428 non-null  object \n",
      " 14  pymnt_plan                   532428 non-null  object \n",
      " 15  desc                         532428 non-null  object \n",
      " 16  purpose                      532428 non-null  int64  \n",
      " 17  title                        532428 non-null  object \n",
      " 18  zip_code                     532428 non-null  object \n",
      " 19  addr_state                   532428 non-null  object \n",
      " 20  dti                          532428 non-null  float64\n",
      " 21  delinq_2yrs                  532412 non-null  float64\n",
      " 22  inq_last_6mths               532412 non-null  float64\n",
      " 23  mths_since_last_delinq       532428 non-null  float64\n",
      " 24  mths_since_last_record       532428 non-null  float64\n",
      " 25  open_acc                     532428 non-null  float64\n",
      " 26  pub_rec                      532412 non-null  float64\n",
      " 27  revol_bal                    532428 non-null  float64\n",
      " 28  revol_util                   532428 non-null  float64\n",
      " 29  total_acc                    532428 non-null  float64\n",
      " 30  initial_list_status          532428 non-null  object \n",
      " 31  total_rec_int                532428 non-null  float64\n",
      " 32  total_rec_late_fee           532428 non-null  float64\n",
      " 33  recoveries                   532428 non-null  float64\n",
      " 34  collection_recovery_fee      532428 non-null  float64\n",
      " 35  collections_12_mths_ex_med   532428 non-null  float64\n",
      " 36  mths_since_last_major_derog  532428 non-null  float64\n",
      " 37  application_type             532428 non-null  object \n",
      " 38  verification_status_joint    532428 non-null  object \n",
      " 39  last_week_pay                532428 non-null  float64\n",
      " 40  acc_now_delinq               532428 non-null  float64\n",
      " 41  tot_coll_amt                 532428 non-null  float64\n",
      " 42  tot_cur_bal                  532428 non-null  float64\n",
      " 43  total_rev_hi_lim             532428 non-null  float64\n",
      " 44  income_to_loan               532428 non-null  float64\n",
      " 45  income_to_loan_inv           532428 non-null  float64\n",
      " 46  total_int_paid               532428 non-null  float64\n",
      " 47  emi_per_month                532428 non-null  float64\n",
      " 48  emi_paid_perc                532428 non-null  float64\n",
      "dtypes: float64(31), int64(5), object(13)\n",
      "memory usage: 199.0+ MB\n"
     ]
    }
   ],
   "source": [
    "final_df.info()"
   ]
  },
  {
   "cell_type": "markdown",
   "metadata": {},
   "source": [
    "### Vectorization"
   ]
  },
  {
   "cell_type": "code",
   "execution_count": 19,
   "metadata": {},
   "outputs": [],
   "source": [
    "from sklearn.feature_extraction.text import TfidfVectorizer\n",
    "\n",
    "v = TfidfVectorizer(min_df=3,  max_features=None, \n",
    "                    strip_accents='unicode', analyzer='word',token_pattern=r'\\w{1,}', \n",
    "                    ngram_range=(1, 3), use_idf=1,smooth_idf=1,sublinear_tf=1,\n",
    "                    stop_words = 'english')\n",
    "\n",
    "#grade\n",
    "x_tfidf = v.fit_transform(final_df['grade'])  \n",
    "df_tfidf = pd.DataFrame(x_tfidf.toarray(), columns=v.get_feature_names())\n",
    "res_train = pd.concat([final_df, df_tfidf], axis=1)\n",
    "res_train.drop('grade',axis=1,inplace=True)\n",
    "\n",
    "#verification_status_joint\n",
    "x_tfidf = v.fit_transform(res_train['verification_status'])  \n",
    "df_tfidf = pd.DataFrame(x_tfidf.toarray(), columns=v.get_feature_names())\n",
    "res_train = pd.concat([res_train, df_tfidf], axis=1)\n",
    "res_train.drop('verification_status',axis=1,inplace=True)\n",
    "\n",
    "#verification_status_joint\n",
    "x_tfidf = v.fit_transform(res_train['verification_status_joint'])  \n",
    "df_tfidf = pd.DataFrame(x_tfidf.toarray(), columns=v.get_feature_names())\n",
    "res_train = pd.concat([res_train, df_tfidf], axis=1)\n",
    "res_train.drop('verification_status_joint',axis=1,inplace=True)\n",
    "               \n",
    "#verification_status_joint\n",
    "x_tfidf = v.fit_transform(res_train['addr_state'])  \n",
    "df_tfidf = pd.DataFrame(x_tfidf.toarray(), columns=v.get_feature_names())\n",
    "res_train = pd.concat([res_train, df_tfidf], axis=1)\n",
    "res_train.drop('addr_state',axis=1,inplace=True)\n",
    "               \n",
    "#verification_status_joint\n",
    "x_tfidf = v.fit_transform(res_train['pymnt_plan'])  \n",
    "df_tfidf = pd.DataFrame(x_tfidf.toarray(), columns=v.get_feature_names())\n",
    "res_train = pd.concat([res_train, df_tfidf], axis=1)\n",
    "res_train.drop('pymnt_plan',axis=1,inplace=True)\n",
    "               \n",
    "                \n",
    "#verification_status_joint\n",
    "x_tfidf = v.fit_transform(res_train['initial_list_status'])  \n",
    "df_tfidf = pd.DataFrame(x_tfidf.toarray(), columns=v.get_feature_names())\n",
    "res_train = pd.concat([res_train, df_tfidf], axis=1)\n",
    "res_train.drop('initial_list_status',axis=1,inplace=True)\n",
    "                             \n",
    "                \n",
    "#verification_status_joint\n",
    "x_tfidf = v.fit_transform(res_train['application_type'])  \n",
    "df_tfidf = pd.DataFrame(x_tfidf.toarray(), columns=v.get_feature_names())\n",
    "res_train = pd.concat([res_train, df_tfidf], axis=1)\n",
    "res_train.drop('application_type',axis=1,inplace=True)\n",
    "                                            \n",
    "\n"
   ]
  },
  {
   "cell_type": "code",
   "execution_count": 20,
   "metadata": {
    "id": "RdBARAIZay8i"
   },
   "outputs": [],
   "source": [
    "#drop all the unwanted columns which provide us with no information about the target \n",
    "res_train.drop(['desc', 'zip_code', 'emp_title', 'title', 'batch_enrolled'], axis=1, inplace=True)"
   ]
  },
  {
   "cell_type": "code",
   "execution_count": 21,
   "metadata": {
    "id": "OdroUdp_d9hY"
   },
   "outputs": [],
   "source": [
    "#scale our dataframe values.\n",
    "def scaler():\n",
    "    result = res_train.copy()\n",
    "    for feature_name in res_train.columns:\n",
    "        max_value = res_train[feature_name].max()\n",
    "        min_value = res_train[feature_name].min()\n",
    "        result[feature_name] = (res_train[feature_name] - min_value) / (max_value - min_value)\n",
    "    return result \n",
    "\n",
    "res_train_scaled = scaler() "
   ]
  },
  {
   "cell_type": "markdown",
   "metadata": {
    "id": "50B4gOM9XCOE"
   },
   "source": [
    "### Train-Test Split"
   ]
  },
  {
   "cell_type": "code",
   "execution_count": 22,
   "metadata": {
    "id": "4TC0ft9UW_mT"
   },
   "outputs": [],
   "source": [
    "from sklearn.model_selection import train_test_split\n",
    "\n",
    "X_train, X_test, y_train, y_test = train_test_split(np.array(res_train_scaled), np.array(train_target), test_size=0.30) "
   ]
  },
  {
   "cell_type": "code",
   "execution_count": 23,
   "metadata": {
    "colab": {
     "base_uri": "https://localhost:8080/"
    },
    "id": "bGB11HXFW_h0",
    "outputId": "b5f1c46e-322f-422d-ea09-5b49f441ca99"
   },
   "outputs": [
    {
     "data": {
      "text/plain": [
       "((372699, 102), (372699, 1), (159729, 102), (159729, 1))"
      ]
     },
     "execution_count": 23,
     "metadata": {},
     "output_type": "execute_result"
    }
   ],
   "source": [
    "X_train.shape, y_train.shape, X_test.shape, y_test.shape "
   ]
  },
  {
   "cell_type": "code",
   "execution_count": 24,
   "metadata": {
    "id": "SKBsHmFpYJsA"
   },
   "outputs": [],
   "source": [
    "import matplotlib.pyplot as plt\n",
    "import sklearn.metrics as metrics\n",
    "from sklearn.metrics import confusion_matrix, classification_report, accuracy_score\n",
    "from sklearn.metrics import roc_curve, auc \n",
    "from sklearn.metrics import roc_auc_score"
   ]
  },
  {
   "cell_type": "markdown",
   "metadata": {
    "id": "MFhOfFwNgcKw"
   },
   "source": [
    "### Cat Boost Classifier"
   ]
  },
  {
   "cell_type": "code",
   "execution_count": 25,
   "metadata": {
    "colab": {
     "base_uri": "https://localhost:8080/"
    },
    "id": "4c1w3sPjYRFx",
    "outputId": "a867cc75-f1f6-4a28-f60d-ef0ca02829b0"
   },
   "outputs": [
    {
     "name": "stdout",
     "output_type": "stream",
     "text": [
      "==========================\n",
      "Train Accuracy: 0.944\n",
      "ROC-AUC: 93.4762163627%\n",
      "Test Accuracy: 0.939\n",
      "==========================\n",
      "[[114957   6878]\n",
      " [  2805  35089]]\n",
      "==========================\n",
      "              precision    recall  f1-score   support\n",
      "\n",
      "           0       0.98      0.94      0.96    121835\n",
      "           1       0.84      0.93      0.88     37894\n",
      "\n",
      "    accuracy                           0.94    159729\n",
      "   macro avg       0.91      0.93      0.92    159729\n",
      "weighted avg       0.94      0.94      0.94    159729\n",
      "\n",
      "==========================\n",
      "Precision Score: 0.836\n",
      "Recall Score: 0.926\n",
      "F1 Score: 0.879\n"
     ]
    }
   ],
   "source": [
    "#CATBoost\n",
    "from catboost import CatBoostClassifier\n",
    "cat_clf = CatBoostClassifier(learning_rate=0.1, n_estimators=1400, subsample=0.70, max_depth=6, scale_pos_weight=2.5, silent=True)\n",
    "cat_clf.fit(X_train, y_train)\n",
    "\n",
    "# evaluate predictions\n",
    "y_train_predict_cat = cat_clf.predict(X_train)\n",
    "print(\"==========================\")\n",
    "print('Train Accuracy: %.3f' % metrics.accuracy_score(y_train, y_train_predict_cat))\n",
    "\n",
    "# make predictions for test data\n",
    "y_pred_cat = cat_clf.predict(X_test)\n",
    "predictions = [round(value) for value in y_pred_cat]\n",
    "\n",
    "\n",
    "accuracy_per_roc_auc = roc_auc_score(y_test, predictions)\n",
    "print(\"ROC-AUC: %.10f%%\" % (accuracy_per_roc_auc * 100))\n",
    "\n",
    "print('Test Accuracy: %.3f' % metrics.accuracy_score(y_test, predictions))\n",
    "print(\"==========================\")\n",
    "print(metrics.confusion_matrix(y_test, predictions))\n",
    "print(\"==========================\")\n",
    "print(metrics.classification_report(y_test, predictions))\n",
    "print(\"==========================\")\n",
    "print('Precision Score: %.3f' % metrics.precision_score(y_test, predictions))\n",
    "print('Recall Score: %.3f' % metrics.recall_score(y_test, predictions))\n",
    "print('F1 Score: %.3f' % metrics.f1_score(y_test, predictions)) "
   ]
  },
  {
   "cell_type": "code",
   "execution_count": 26,
   "metadata": {
    "colab": {
     "base_uri": "https://localhost:8080/",
     "height": 295
    },
    "id": "VtMs2U5jYXBt",
    "outputId": "8b665a59-20e1-445e-f01c-09f31d2b5e81"
   },
   "outputs": [
    {
     "data": {
      "image/png": "[encoded data removed]",
      "text/plain": [
       "<Figure size 432x288 with 1 Axes>"
      ]
     },
     "metadata": {
      "needs_background": "light"
     },
     "output_type": "display_data"
    }
   ],
   "source": [
    "y_train_pred = cat_clf.predict(X_train)    \n",
    "y_test_pred = cat_clf.predict(X_test)\n",
    "\n",
    "\n",
    "train_fpr, train_tpr, train_thresholds = roc_curve(y_train, y_train_pred)\n",
    "test_fpr, test_tpr, test_thresholds = roc_curve(y_test, y_test_pred)\n",
    "\n",
    "plt.plot(train_fpr, train_tpr, label=\"Train AUC =\"+str(auc(train_fpr, train_tpr)))\n",
    "plt.plot(test_fpr, test_tpr, label=\"Test AUC =\"+str(auc(test_fpr, test_tpr)))\n",
    "plt.legend()\n",
    "plt.xlabel(\"True Positive Rate(TPR)\", fontweight='bold')\n",
    "plt.ylabel(\"False Positive Rate(FPR)\", fontweight='bold')\n",
    "plt.title(\"ROC-AUC\", fontweight='bold')\n",
    "plt.grid()\n",
    "plt.show() "
   ]
  },
  {
   "cell_type": "markdown",
   "metadata": {
    "id": "DJ9RALCbrwqM"
   },
   "source": [
    "### XGBoost Classifier"
   ]
  },
  {
   "cell_type": "code",
   "execution_count": 27,
   "metadata": {
    "colab": {
     "base_uri": "https://localhost:8080/"
    },
    "id": "gHIZMR42dNrO",
    "outputId": "e0fc12fb-6c68-4bc3-952f-aaa23d887a4b"
   },
   "outputs": [
    {
     "name": "stderr",
     "output_type": "stream",
     "text": [
      "C:\\Users\\DMarudhu\\AppData\\Local\\Continuum\\anaconda3\\lib\\site-packages\\xgboost\\sklearn.py:888: UserWarning: The use of label encoder in XGBClassifier is deprecated and will be removed in a future release. To remove this warning, do the following: 1) Pass option use_label_encoder=False when constructing XGBClassifier object; and 2) Encode your labels (y) as integers starting with 0, i.e. 0, 1, 2, ..., [num_class - 1].\n",
      "  warnings.warn(label_encoder_deprecation_msg, UserWarning)\n",
      "C:\\Users\\DMarudhu\\AppData\\Local\\Continuum\\anaconda3\\lib\\site-packages\\sklearn\\preprocessing\\label.py:219: DataConversionWarning: A column-vector y was passed when a 1d array was expected. Please change the shape of y to (n_samples, ), for example using ravel().\n",
      "  y = column_or_1d(y, warn=True)\n",
      "C:\\Users\\DMarudhu\\AppData\\Local\\Continuum\\anaconda3\\lib\\site-packages\\sklearn\\preprocessing\\label.py:252: DataConversionWarning: A column-vector y was passed when a 1d array was expected. Please change the shape of y to (n_samples, ), for example using ravel().\n",
      "  y = column_or_1d(y, warn=True)\n"
     ]
    },
    {
     "name": "stdout",
     "output_type": "stream",
     "text": [
      "[18:00:33] WARNING: C:/Users/Administrator/workspace/xgboost-win64_release_1.3.0/src/learner.cc:541: \n",
      "Parameters: { silent } might not be used.\n",
      "\n",
      "  This may not be accurate due to some parameters are only used in language bindings but\n",
      "  passed down to XGBoost core.  Or some parameters are not used but slip through this\n",
      "  verification. Please open an issue if you find above cases.\n",
      "\n",
      "\n",
      "[18:00:35] WARNING: C:/Users/Administrator/workspace/xgboost-win64_release_1.3.0/src/learner.cc:1061: Starting in XGBoost 1.3.0, the default evaluation metric used with the objective 'binary:logistic' was changed from 'error' to 'logloss'. Explicitly set eval_metric if you'd like to restore the old behavior.\n",
      "==========================\n",
      "Train Accuracy 0.943\n",
      "ROC-AUC: 93.3045919710%\n",
      "Test Accuracy 0.939\n",
      "==========================\n",
      "[[115005   6830]\n",
      " [  2950  34944]]\n",
      "==========================\n",
      "              precision    recall  f1-score   support\n",
      "\n",
      "           0       0.97      0.94      0.96    121835\n",
      "           1       0.84      0.92      0.88     37894\n",
      "\n",
      "    accuracy                           0.94    159729\n",
      "   macro avg       0.91      0.93      0.92    159729\n",
      "weighted avg       0.94      0.94      0.94    159729\n",
      "\n",
      "==========================\n",
      "Precision Score 0.837\n",
      "Recall Score 0.922\n",
      "F1 Score 0.877\n"
     ]
    }
   ],
   "source": [
    "#XGBOOST\n",
    "from xgboost import XGBClassifier\n",
    "\n",
    "xg = XGBClassifier(scale_pos_weight=2.5 ,silent=True)\n",
    "    \n",
    "xg.fit(X_train, y_train)\n",
    "\n",
    "\n",
    "# evaluate predictions\n",
    "y_train_predict_xg = xg.predict(X_train)\n",
    "print(\"==========================\")\n",
    "print('Train Accuracy %.3f' % metrics.accuracy_score(y_train, y_train_predict_xg))\n",
    "\n",
    "# make predictions for test data\n",
    "y_pred_xg = xg.predict(X_test)\n",
    "predictions = [round(value) for value in y_pred_xg]\n",
    "\n",
    "accuracy_per_roc_auc = roc_auc_score(y_test, predictions)\n",
    "print(\"ROC-AUC: %.10f%%\" % (accuracy_per_roc_auc * 100))\n",
    "\n",
    "\n",
    "print('Test Accuracy %.3f' % metrics.accuracy_score(y_test, predictions))\n",
    "print(\"==========================\")\n",
    "print(metrics.confusion_matrix(y_test, predictions))\n",
    "print(\"==========================\")\n",
    "print(metrics.classification_report(y_test, predictions))\n",
    "print(\"==========================\")\n",
    "print('Precision Score %.3f' % metrics.precision_score(y_test, predictions))\n",
    "print('Recall Score %.3f' % metrics.recall_score(y_test, predictions))\n",
    "print('F1 Score %.3f' % metrics.f1_score(y_test, predictions)) "
   ]
  },
  {
   "cell_type": "code",
   "execution_count": 28,
   "metadata": {
    "colab": {
     "base_uri": "https://localhost:8080/",
     "height": 295
    },
    "id": "INXh7p0VdtNm",
    "outputId": "f7754adb-a303-4d5e-b158-e0f8c72a388f"
   },
   "outputs": [
    {
     "data": {
      "image/png": "[encoded data removed]",
      "text/plain": [
       "<Figure size 432x288 with 1 Axes>"
      ]
     },
     "metadata": {
      "needs_background": "light"
     },
     "output_type": "display_data"
    }
   ],
   "source": [
    "y_train_pred = xg.predict(X_train)    \n",
    "y_test_pred = xg.predict(X_test)\n",
    "\n",
    "\n",
    "train_fpr, train_tpr, tr_thresholds = roc_curve(y_train, y_train_pred)\n",
    "test_fpr, test_tpr, te_thresholds = roc_curve(y_test, y_test_pred)\n",
    "\n",
    "plt.plot(train_fpr, train_tpr, label=\"Train AUC =\"+str(auc(train_fpr, train_tpr)))\n",
    "plt.plot(test_fpr, test_tpr, label=\"Test AUC =\"+str(auc(test_fpr, test_tpr)))\n",
    "plt.legend()\n",
    "plt.xlabel(\"True Positive Rate(TPR)\", fontweight='bold')\n",
    "plt.ylabel(\"False Positive Rate(FPR)\", fontweight='bold')\n",
    "plt.title(\"ROC-AUC\", fontweight='bold')\n",
    "plt.grid()\n",
    "plt.show() "
   ]
  },
  {
   "cell_type": "markdown",
   "metadata": {
    "id": "B80Bkd4Er1eo"
   },
   "source": [
    "### Light Gradient Boosting Machine"
   ]
  },
  {
   "cell_type": "code",
   "execution_count": 31,
   "metadata": {
    "colab": {
     "base_uri": "https://localhost:8080/"
    },
    "id": "tuM9BazodyuE",
    "outputId": "07f06b03-c28e-4041-d6d2-98d7846004cb"
   },
   "outputs": [
    {
     "name": "stderr",
     "output_type": "stream",
     "text": [
      "C:\\Users\\DMarudhu\\AppData\\Local\\Continuum\\anaconda3\\lib\\site-packages\\dask\\dataframe\\utils.py:14: FutureWarning: pandas.util.testing is deprecated. Use the functions in the public API at pandas.testing instead.\n",
      "  import pandas.util.testing as tm\n",
      "C:\\Users\\DMarudhu\\AppData\\Local\\Continuum\\anaconda3\\lib\\site-packages\\sklearn\\preprocessing\\label.py:219: DataConversionWarning: A column-vector y was passed when a 1d array was expected. Please change the shape of y to (n_samples, ), for example using ravel().\n",
      "  y = column_or_1d(y, warn=True)\n",
      "C:\\Users\\DMarudhu\\AppData\\Local\\Continuum\\anaconda3\\lib\\site-packages\\sklearn\\preprocessing\\label.py:252: DataConversionWarning: A column-vector y was passed when a 1d array was expected. Please change the shape of y to (n_samples, ), for example using ravel().\n",
      "  y = column_or_1d(y, warn=True)\n"
     ]
    },
    {
     "name": "stdout",
     "output_type": "stream",
     "text": [
      "==========================\n",
      "Train Accuracy 0.950\n",
      "ROC-AUC: 93.3515059100%\n",
      "Test Accuracy 0.939\n",
      "==========================\n",
      "[[115010   6825]\n",
      " [  2916  34978]]\n",
      "==========================\n",
      "              precision    recall  f1-score   support\n",
      "\n",
      "           0       0.98      0.94      0.96    121835\n",
      "           1       0.84      0.92      0.88     37894\n",
      "\n",
      "    accuracy                           0.94    159729\n",
      "   macro avg       0.91      0.93      0.92    159729\n",
      "weighted avg       0.94      0.94      0.94    159729\n",
      "\n",
      "==========================\n",
      "Precision Score 0.837\n",
      "Recall Score 0.923\n",
      "F1 Score 0.878\n"
     ]
    }
   ],
   "source": [
    "#LGBM\n",
    "from lightgbm import LGBMClassifier\n",
    "\n",
    "lgbm = LGBMClassifier(objective =\"binary\",verbosity = -1, learning_rate=0.1, n_estimators=1000, scale_pos_weight=2.5)\n",
    "    \n",
    "lgbm.fit(X_train, y_train)\n",
    "\n",
    "\n",
    "# evaluate predictions\n",
    "y_train_predict_lgbm = lgbm.predict(X_train)\n",
    "\n",
    "print(\"==========================\")\n",
    "print('Train Accuracy %.3f' % metrics.accuracy_score(y_train, y_train_predict_lgbm))\n",
    "\n",
    "# make predictions for test data\n",
    "y_pred_lgbm = lgbm.predict(X_test)\n",
    "predictions = [round(value) for value in y_pred_lgbm]\n",
    "\n",
    "\n",
    "accuracy_per_roc_auc = roc_auc_score(y_test, predictions)\n",
    "print(\"ROC-AUC: %.10f%%\" % (accuracy_per_roc_auc * 100))\n",
    "\n",
    "\n",
    "print('Test Accuracy %.3f' % metrics.accuracy_score(y_test, predictions))\n",
    "print(\"==========================\")\n",
    "print(metrics.confusion_matrix(y_test, predictions))\n",
    "print(\"==========================\")\n",
    "print(metrics.classification_report(y_test, predictions))\n",
    "print(\"==========================\")\n",
    "print('Precision Score %.3f' % metrics.precision_score(y_test, predictions))\n",
    "print('Recall Score %.3f' % metrics.recall_score(y_test, predictions))\n",
    "print('F1 Score %.3f' % metrics.f1_score(y_test, predictions)) "
   ]
  },
  {
   "cell_type": "code",
   "execution_count": 32,
   "metadata": {
    "colab": {
     "base_uri": "https://localhost:8080/",
     "height": 295
    },
    "id": "uo9OoYldd1wt",
    "outputId": "7e4bce61-0d30-4b7d-adea-a1e75cb3af3b"
   },
   "outputs": [
    {
     "data": {
      "image/png": "[encoded data removed]",
      "text/plain": [
       "<Figure size 432x288 with 1 Axes>"
      ]
     },
     "metadata": {
      "needs_background": "light"
     },
     "output_type": "display_data"
    }
   ],
   "source": [
    "y_train_pred = lgbm.predict(X_train)    \n",
    "y_test_pred = lgbm.predict(X_test)\n",
    "\n",
    "\n",
    "train_fpr, train_tpr, tr_thresholds = roc_curve(y_train, y_train_pred)\n",
    "test_fpr, test_tpr, te_thresholds = roc_curve(y_test, y_test_pred)\n",
    "\n",
    "plt.plot(train_fpr, train_tpr, label=\"Train AUC =\"+str(auc(train_fpr, train_tpr)))\n",
    "plt.plot(test_fpr, test_tpr, label=\"Test AUC =\"+str(auc(test_fpr, test_tpr)))\n",
    "plt.legend()\n",
    "plt.xlabel(\"True Positive Rate(TPR)\", fontweight='bold')\n",
    "plt.ylabel(\"False Positive Rate(FPR)\", fontweight='bold')\n",
    "plt.title(\"ROC-AUC\")\n",
    "plt.grid()\n",
    "plt.show()  "
   ]
  },
  {
   "cell_type": "markdown",
   "metadata": {
    "id": "NnOLPXE6tGSB"
   },
   "source": [
    "### Conclusion\n",
    "\n",
    "- CatBoost is the clear winner here and all the models have done a good job.\n",
    "- Performance can be increaded further by considering text features too which I had to ignore since it would make the dimensions huge and the number of data points were also large, the notebook was crashing.\n",
    "- So, even with these features and few of engineered features, the model is performing very good."
   ]
  },
  {
   "cell_type": "markdown",
   "metadata": {
    "id": "TLiuU9NksHAs"
   },
   "source": [
    "### Save Model using Joblib"
   ]
  },
  {
   "cell_type": "code",
   "execution_count": 33,
   "metadata": {
    "id": "b_P3Ed8_emp0"
   },
   "outputs": [
    {
     "name": "stderr",
     "output_type": "stream",
     "text": [
      "C:\\Users\\DMarudhu\\AppData\\Local\\Continuum\\anaconda3\\lib\\site-packages\\sklearn\\externals\\joblib\\__init__.py:15: DeprecationWarning: sklearn.externals.joblib is deprecated in 0.21 and will be removed in 0.23. Please import this functionality directly from joblib, which can be installed with: pip install joblib. If this warning is raised when loading pickled models, you may need to re-serialize those models with scikit-learn 0.21+.\n",
      "  warnings.warn(msg, category=DeprecationWarning)\n"
     ]
    }
   ],
   "source": [
    "from sklearn.externals import joblib \n",
    "\n",
    "# Save the model as a pickle in a file \n",
    "joblib.dump(xg, 'xgboost.pkl') \n",
    "joblib.dump(cat_clf, 'catboost.pkl') \n",
    "joblib.dump(lgbm, 'lgbm.pkl');"
   ]
  },
  {
   "cell_type": "markdown",
   "metadata": {},
   "source": [
    "## Test Data Submission"
   ]
  },
  {
   "cell_type": "code",
   "execution_count": 2,
   "metadata": {},
   "outputs": [
    {
     "name": "stderr",
     "output_type": "stream",
     "text": [
      "[nltk_data] Downloading package stopwords to\n",
      "[nltk_data]     C:\\Users\\DMarudhu\\AppData\\Roaming\\nltk_data...\n",
      "[nltk_data]   Package stopwords is already up-to-date!\n"
     ]
    }
   ],
   "source": [
    "import pandas as pd\n",
    "df_test = pd.read_csv('ML_Artivatic_dataset/ML_Artivatic_dataset/test_indessa.csv') \n",
    "\n",
    "### Data Prep for Test Data\n",
    "\n",
    "#Feature : TERM\n",
    "\n",
    "#Action   : Changing month to integer (lets make it as year count)\n",
    "\n",
    "df_test['term'].replace(to_replace=' months', value='', regex=True, inplace=True) \n",
    "df_test['term'] = pd.to_numeric(df_test['term'])/12\n",
    "df_test['term'].value_counts()\n",
    "\n",
    "#Feature : EMP_LENGTH\n",
    "\n",
    "#Action   : Change to numeric\n",
    "\n",
    "df_test['emp_length'].replace('n/a', '0', inplace=True)\n",
    "df_test['emp_length'].replace(to_replace='\\+ years', value='', regex=True, inplace=True)\n",
    "df_test['emp_length'].replace(to_replace=' years', value='', regex=True, inplace=True)\n",
    "df_test['emp_length'].replace(to_replace='< 1 year', value='0', regex=True, inplace=True)\n",
    "df_test['emp_length'].replace(to_replace=' year', value='', regex=True, inplace=True)\n",
    "\n",
    "# Convert it to numeric\n",
    "df_test['emp_length'] = pd.to_numeric(df_test['emp_length'], errors='coerce') \n",
    "\n",
    "#Feature : SUB_GRADE\n",
    "\n",
    "#Action   : labeling and changing to numeric\n",
    "\n",
    "df_test['sub_grade'].replace(to_replace='A', value='0', regex=True, inplace=True)\n",
    "df_test['sub_grade'].replace(to_replace='B', value='1', regex=True, inplace=True)\n",
    "df_test['sub_grade'].replace(to_replace='C', value='2', regex=True, inplace=True)\n",
    "df_test['sub_grade'].replace(to_replace='D', value='3', regex=True, inplace=True)\n",
    "df_test['sub_grade'].replace(to_replace='E', value='4', regex=True, inplace=True)\n",
    "df_test['sub_grade'].replace(to_replace='F', value='5', regex=True, inplace=True)\n",
    "df_test['sub_grade'].replace(to_replace='G', value='6', regex=True, inplace=True) \n",
    "\n",
    "# Convert it to numeric\n",
    "df_test['sub_grade'] = pd.to_numeric(df_test['sub_grade'], errors='coerce') \n",
    "\n",
    "#Feature : LAST_WEEK_PAY\n",
    "\n",
    "#Action   : Cleansing and changing to numeric\n",
    "\n",
    "df_test['last_week_pay'].replace(to_replace='th week', value='', regex=True, inplace=True)\n",
    "\n",
    "df_test['last_week_pay'].replace(to_replace='NA', value='', regex=True, inplace=True)\n",
    "\n",
    "# Convert it to numeric\n",
    "df_test['last_week_pay'] = pd.to_numeric(df_test['last_week_pay'], errors='coerce')\n",
    "\n",
    "### Handling Missing Values\n",
    "\n",
    "#MISSING VALUES\n",
    "pd.DataFrame(df_test.isnull().sum()[df_test.isnull().sum()>0])\n",
    "\n",
    "#NUMERICAL FEATURES:\n",
    "\n",
    "columns = ['term', 'loan_amnt', 'funded_amnt', 'last_week_pay', 'int_rate', 'sub_grade',\n",
    "           'annual_inc', 'dti', 'mths_since_last_delinq', 'mths_since_last_record', 'open_acc',\n",
    "           'revol_bal', 'revol_util', 'total_acc', 'total_rec_int', 'mths_since_last_major_derog', \n",
    "           'tot_coll_amt', 'tot_cur_bal', 'total_rev_hi_lim', 'emp_length']\n",
    "for col in columns:\n",
    "    df_test[col].fillna(df_test[col].median(), inplace=True)  # Filling NaN values with median\n",
    "    \n",
    "num_cols = ['acc_now_delinq', 'total_rec_late_fee', 'recoveries', 'collection_recovery_fee', 'collections_12_mths_ex_med']\n",
    "\n",
    "for col in num_cols:\n",
    "    df_test[col].fillna(0, inplace=True)        ## Filling NaN values with 0 f\n",
    "\n",
    "#CATEGORICAL FEATURES:\n",
    "\n",
    "# Converts categorical variable into dummy/indicator variables.\n",
    "cate_attr = ['home_ownership', 'purpose']\n",
    "for cat in cate_attr:\n",
    "    df_test_col = [cat]\n",
    "    df_test[cat] = df_test[cat].astype(\"category\")\n",
    "    df_test[cat] = pd.get_dummies(df_test, columns=df_test_col) \n",
    "\n",
    "# Feature Engineering\n",
    "\n",
    "final_df_test = df_test.copy()\n",
    "\n",
    "# CREATING income_to_loan,total_int_paid,income_to_loan_inv using annual_inc,funded_amnt\n",
    "\n",
    "import math\n",
    "import numpy as np\n",
    "\n",
    "# How big the loan a person has taken with respect to his earnings, annual income to fund by bank ratio\n",
    "final_df_test['income_to_loan'] = np.round_(final_df_test['annual_inc']/final_df_test['funded_amnt'], decimals = 2)\n",
    "\n",
    "# How big the loan a person has taken with respect to his earnings, annual income to fund by investors ratio\n",
    "final_df_test['income_to_loan_inv'] = np.round_(final_df_test['annual_inc']/final_df_test['funded_amnt_inv'], decimals = 2)\n",
    "\n",
    "# Interest paid so far = interest received till date + Late fee received till date\n",
    "final_df_test['total_int_paid'] = final_df_test['total_rec_int'] + final_df_test['total_rec_late_fee']\n",
    "\n",
    "# Calculating EMIs (monthly)\n",
    "#EMI = [P x R x (1+R)^N] / [(1+R)^N-1]\n",
    "principal = final_df_test['loan_amnt']\n",
    "rate = final_df_test['int_rate'] /(100*12)\n",
    "time = final_df_test['term']\n",
    "\n",
    "final_df_test['emi_per_month'] = np.round_((principal * rate * (1+rate)**time)/((1+rate)**(time)-1), decimals = 2)\n",
    "\n",
    "# Calculating EMIs paid (in terms of percent) np.round_(in_array, decimals = 2)\n",
    "final_df_test['emi_paid_perc'] = np.round_(((final_df_test['last_week_pay'])/(final_df_test['term']/12*52+1))*100, decimals = 2)\n",
    "\n",
    "### Cleansing Text field to create proper feature set\n",
    "\n",
    "import nltk\n",
    "nltk.download('stopwords')\n",
    "\n",
    "from nltk.corpus import stopwords\n",
    "stop_words = stopwords.words('english') \n",
    "\n",
    "text_cols = ['grade', 'emp_title', 'verification_status_joint', 'verification_status',\n",
    "        'pymnt_plan', 'desc', 'purpose', 'title', 'zip_code', 'addr_state', 'initial_list_status', 'application_type']\n",
    "\n",
    "for col in text_cols:\n",
    "    final_df_test[col].fillna('missing', inplace=True)\n",
    "\n",
    "#Finally, if we have any left out columns, we'll fill them with 0.\n",
    "\n",
    "final_df_test.fillna(0)  \n",
    "final_df_test.reset_index(inplace=True,drop=True)  # Resets the indices.\n",
    "\n",
    "\n",
    "### Vectorization\n",
    "from sklearn.feature_extraction.text import TfidfVectorizer\n",
    "\n",
    "v = TfidfVectorizer(min_df=3,  max_features=None, \n",
    "                    strip_accents='unicode', analyzer='word',token_pattern=r'\\w{1,}', \n",
    "                    ngram_range=(1, 3), use_idf=1,smooth_idf=1,sublinear_tf=1,\n",
    "                    stop_words = 'english')\n",
    "\n",
    "#grade\n",
    "x_tfidf_test = v.fit_transform(final_df_test['grade'])  \n",
    "df_test_tfidf_test = pd.DataFrame(x_tfidf_test.toarray(), columns=v.get_feature_names())\n",
    "res_train = pd.concat([final_df_test, df_test_tfidf_test], axis=1)\n",
    "res_train.drop('grade',axis=1,inplace=True)\n",
    "\n",
    "#verification_status_joint\n",
    "x_tfidf_test = v.fit_transform(res_train['verification_status'])  \n",
    "df_test_tfidf_test = pd.DataFrame(x_tfidf_test.toarray(), columns=v.get_feature_names())\n",
    "res_train = pd.concat([res_train, df_test_tfidf_test], axis=1)\n",
    "res_train.drop('verification_status',axis=1,inplace=True)\n",
    "\n",
    "#verification_status_joint\n",
    "x_tfidf_test = v.fit_transform(res_train['verification_status_joint'])  \n",
    "df_test_tfidf_test = pd.DataFrame(x_tfidf_test.toarray(), columns=v.get_feature_names())\n",
    "res_train = pd.concat([res_train, df_test_tfidf_test], axis=1)\n",
    "res_train.drop('verification_status_joint',axis=1,inplace=True)\n",
    "               \n",
    "#verification_status_joint\n",
    "x_tfidf_test = v.fit_transform(res_train['addr_state'])  \n",
    "df_test_tfidf_test = pd.DataFrame(x_tfidf_test.toarray(), columns=v.get_feature_names())\n",
    "res_train = pd.concat([res_train, df_test_tfidf_test], axis=1)\n",
    "res_train.drop('addr_state',axis=1,inplace=True)\n",
    "               \n",
    "#verification_status_joint\n",
    "x_tfidf_test = v.fit_transform(res_train['pymnt_plan'])  \n",
    "df_test_tfidf_test = pd.DataFrame(x_tfidf_test.toarray(), columns=v.get_feature_names())\n",
    "res_train = pd.concat([res_train, df_test_tfidf_test], axis=1)\n",
    "res_train.drop('pymnt_plan',axis=1,inplace=True)\n",
    "               \n",
    "                \n",
    "#verification_status_joint\n",
    "x_tfidf_test = v.fit_transform(res_train['initial_list_status'])  \n",
    "df_test_tfidf_test = pd.DataFrame(x_tfidf_test.toarray(), columns=v.get_feature_names())\n",
    "res_train = pd.concat([res_train, df_test_tfidf_test], axis=1)\n",
    "res_train.drop('initial_list_status',axis=1,inplace=True)\n",
    "                             \n",
    "                \n",
    "#verification_status_joint\n",
    "x_tfidf_test = v.fit_transform(res_train['application_type'])  \n",
    "df_test_tfidf_test = pd.DataFrame(x_tfidf_test.toarray(), columns=v.get_feature_names())\n",
    "res_train = pd.concat([res_train, df_test_tfidf_test], axis=1)\n",
    "res_train.drop('application_type',axis=1,inplace=True)\n",
    "                                            \n",
    "#drop all the unwanted columns which provide us with no information about the target \n",
    "res_train.drop(['desc', 'zip_code', 'emp_title', 'title', 'batch_enrolled'], axis=1, inplace=True)\n",
    "\n",
    "#scale our dataframe values.\n",
    "def scaler():\n",
    "    result = res_train.copy()\n",
    "    for feature_name in res_train.columns:\n",
    "        max_value = res_train[feature_name].max()\n",
    "        min_value = res_train[feature_name].min()\n",
    "        result[feature_name] = (res_train[feature_name] - min_value) / (max_value - min_value)\n",
    "    return result \n",
    "\n",
    "res_train_scaled = scaler() "
   ]
  },
  {
   "cell_type": "code",
   "execution_count": 12,
   "metadata": {
    "scrolled": true
   },
   "outputs": [
    {
     "name": "stderr",
     "output_type": "stream",
     "text": [
      "C:\\Users\\DMarudhu\\AppData\\Local\\Continuum\\anaconda3\\lib\\site-packages\\sklearn\\externals\\joblib\\__init__.py:15: DeprecationWarning: sklearn.externals.joblib is deprecated in 0.21 and will be removed in 0.23. Please import this functionality directly from joblib, which can be installed with: pip install joblib. If this warning is raised when loading pickled models, you may need to re-serialize those models with scikit-learn 0.21+.\n",
      "  warnings.warn(msg, category=DeprecationWarning)\n"
     ]
    }
   ],
   "source": [
    "from sklearn.externals import joblib \n",
    "model=joblib.load('catboost.pkl')\n",
    "pred = pd.Series(model.predict(np.array(res_train_scaled)))\n",
    "res_train_scaled['member_id']=df_test['member_id']\n",
    "res_train_scaled['loan_status']=pred"
   ]
  },
  {
   "cell_type": "code",
   "execution_count": 15,
   "metadata": {},
   "outputs": [],
   "source": [
    "res_train_scaled[['member_id','loan_status']].to_csv('Submission.csv',index=False)"
   ]
  }
 ],
 "metadata": {
  "kernelspec": {
   "display_name": "Python 3",
   "language": "python",
   "name": "python3"
  },
  "language_info": {
   "codemirror_mode": {
    "name": "ipython",
    "version": 3
   },
   "file_extension": ".py",
   "mimetype": "text/x-python",
   "name": "python",
   "nbconvert_exporter": "python",
   "pygments_lexer": "ipython3",
   "version": "3.7.4"
  }
 },
 "nbformat": 4,
 "nbformat_minor": 2
}
